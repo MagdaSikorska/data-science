{
 "cells": [
  {
   "cell_type": "markdown",
   "id": "75708f6f-bc4e-4c2a-8050-5cd2d749509f",
   "metadata": {},
   "source": [
    "# Fuel efficiency data #"
   ]
  },
  {
   "cell_type": "markdown",
   "id": "84478e8c-5935-435d-bfd7-b60b581a9150",
   "metadata": {},
   "source": [
    "Aim: to investigate how the addition of Hydrotreated Vegetable Oil (HVO) to diesel fuel changes fuel efficiency based on 2024 data."
   ]
  },
  {
   "cell_type": "markdown",
   "id": "e08ad14d-140b-4611-94ef-7bb4b5bccf26",
   "metadata": {},
   "source": [
    "## Importing the data ##"
   ]
  },
  {
   "cell_type": "code",
   "execution_count": 18,
   "id": "6956f80a-e949-489d-883e-10e16c44510f",
   "metadata": {},
   "outputs": [
    {
     "data": {
      "text/html": [
       "<table>\n",
       "<thead><tr><th scope=col>X</th><th scope=col>REG</th><th scope=col>Week</th><th scope=col>HVO</th><th scope=col>Diesel</th><th scope=col>CLASS</th><th scope=col>miles</th><th scope=col>GB</th><th scope=col>IE</th><th scope=col>AT</th><th scope=col>...</th><th scope=col>NO</th><th scope=col>PT</th><th scope=col>SE</th><th scope=col>CH</th><th scope=col>LU</th><th scope=col>PL</th><th scope=col>HR</th><th scope=col>SI</th><th scope=col>fuel</th><th scope=col>mpg</th></tr></thead>\n",
       "<tbody>\n",
       "\t<tr><td>1        </td><td>truck1   </td><td>2        </td><td>720.70   </td><td>0        </td><td>HGV      </td><td>1485.3369</td><td>1485.3369</td><td>0        </td><td>0        </td><td>...      </td><td>0        </td><td>0        </td><td>0        </td><td>0        </td><td>0        </td><td>0        </td><td>0        </td><td>0        </td><td>720.70   </td><td> 9.369329</td></tr>\n",
       "\t<tr><td>2        </td><td>truck1   </td><td>3        </td><td>587.42   </td><td>0        </td><td>HGV      </td><td>1045.7358</td><td>1045.7358</td><td>0        </td><td>0        </td><td>...      </td><td>0        </td><td>0        </td><td>0        </td><td>0        </td><td>0        </td><td>0        </td><td>0        </td><td>0        </td><td>587.42   </td><td> 8.093032</td></tr>\n",
       "\t<tr><td>3        </td><td>truck1   </td><td>4        </td><td>635.69   </td><td>0        </td><td>HGV      </td><td>1442.5705</td><td>1442.5705</td><td>0        </td><td>0        </td><td>...      </td><td>0        </td><td>0        </td><td>0        </td><td>0        </td><td>0        </td><td>0        </td><td>0        </td><td>0        </td><td>635.69   </td><td>10.316436</td></tr>\n",
       "\t<tr><td>4        </td><td>truck1   </td><td>5        </td><td>613.99   </td><td>0        </td><td>HGV      </td><td>1070.3352</td><td>1070.3352</td><td>0        </td><td>0        </td><td>...      </td><td>0        </td><td>0        </td><td>0        </td><td>0        </td><td>0        </td><td>0        </td><td>0        </td><td>0        </td><td>613.99   </td><td> 7.924950</td></tr>\n",
       "\t<tr><td>5        </td><td>truck1   </td><td>6        </td><td>455.06   </td><td>0        </td><td>HGV      </td><td>1209.7557</td><td>1209.7557</td><td>0        </td><td>0        </td><td>...      </td><td>0        </td><td>0        </td><td>0        </td><td>0        </td><td>0        </td><td>0        </td><td>0        </td><td>0        </td><td>455.06   </td><td>12.085567</td></tr>\n",
       "\t<tr><td>6        </td><td>truck1   </td><td>7        </td><td>570.16   </td><td>0        </td><td>HGV      </td><td> 670.9068</td><td> 670.9068</td><td>0        </td><td>0        </td><td>...      </td><td>0        </td><td>0        </td><td>0        </td><td>0        </td><td>0        </td><td>0        </td><td>0        </td><td>0        </td><td>570.16   </td><td> 5.349380</td></tr>\n",
       "</tbody>\n",
       "</table>\n"
      ],
      "text/latex": [
       "\\begin{tabular}{r|lllllllllllllllllllllllllll}\n",
       " X & REG & Week & HVO & Diesel & CLASS & miles & GB & IE & AT & ... & NO & PT & SE & CH & LU & PL & HR & SI & fuel & mpg\\\\\n",
       "\\hline\n",
       "\t 1         & truck1    & 2         & 720.70    & 0         & HGV       & 1485.3369 & 1485.3369 & 0         & 0         & ...       & 0         & 0         & 0         & 0         & 0         & 0         & 0         & 0         & 720.70    &  9.369329\\\\\n",
       "\t 2         & truck1    & 3         & 587.42    & 0         & HGV       & 1045.7358 & 1045.7358 & 0         & 0         & ...       & 0         & 0         & 0         & 0         & 0         & 0         & 0         & 0         & 587.42    &  8.093032\\\\\n",
       "\t 3         & truck1    & 4         & 635.69    & 0         & HGV       & 1442.5705 & 1442.5705 & 0         & 0         & ...       & 0         & 0         & 0         & 0         & 0         & 0         & 0         & 0         & 635.69    & 10.316436\\\\\n",
       "\t 4         & truck1    & 5         & 613.99    & 0         & HGV       & 1070.3352 & 1070.3352 & 0         & 0         & ...       & 0         & 0         & 0         & 0         & 0         & 0         & 0         & 0         & 613.99    &  7.924950\\\\\n",
       "\t 5         & truck1    & 6         & 455.06    & 0         & HGV       & 1209.7557 & 1209.7557 & 0         & 0         & ...       & 0         & 0         & 0         & 0         & 0         & 0         & 0         & 0         & 455.06    & 12.085567\\\\\n",
       "\t 6         & truck1    & 7         & 570.16    & 0         & HGV       &  670.9068 &  670.9068 & 0         & 0         & ...       & 0         & 0         & 0         & 0         & 0         & 0         & 0         & 0         & 570.16    &  5.349380\\\\\n",
       "\\end{tabular}\n"
      ],
      "text/markdown": [
       "\n",
       "| X | REG | Week | HVO | Diesel | CLASS | miles | GB | IE | AT | ... | NO | PT | SE | CH | LU | PL | HR | SI | fuel | mpg |\n",
       "|---|---|---|---|---|---|---|---|---|---|---|---|---|---|---|---|---|---|---|---|---|\n",
       "| 1         | truck1    | 2         | 720.70    | 0         | HGV       | 1485.3369 | 1485.3369 | 0         | 0         | ...       | 0         | 0         | 0         | 0         | 0         | 0         | 0         | 0         | 720.70    |  9.369329 |\n",
       "| 2         | truck1    | 3         | 587.42    | 0         | HGV       | 1045.7358 | 1045.7358 | 0         | 0         | ...       | 0         | 0         | 0         | 0         | 0         | 0         | 0         | 0         | 587.42    |  8.093032 |\n",
       "| 3         | truck1    | 4         | 635.69    | 0         | HGV       | 1442.5705 | 1442.5705 | 0         | 0         | ...       | 0         | 0         | 0         | 0         | 0         | 0         | 0         | 0         | 635.69    | 10.316436 |\n",
       "| 4         | truck1    | 5         | 613.99    | 0         | HGV       | 1070.3352 | 1070.3352 | 0         | 0         | ...       | 0         | 0         | 0         | 0         | 0         | 0         | 0         | 0         | 613.99    |  7.924950 |\n",
       "| 5         | truck1    | 6         | 455.06    | 0         | HGV       | 1209.7557 | 1209.7557 | 0         | 0         | ...       | 0         | 0         | 0         | 0         | 0         | 0         | 0         | 0         | 455.06    | 12.085567 |\n",
       "| 6         | truck1    | 7         | 570.16    | 0         | HGV       |  670.9068 |  670.9068 | 0         | 0         | ...       | 0         | 0         | 0         | 0         | 0         | 0         | 0         | 0         | 570.16    |  5.349380 |\n",
       "\n"
      ],
      "text/plain": [
       "  X REG    Week HVO    Diesel CLASS miles     GB        IE AT ... NO PT SE CH\n",
       "1 1 truck1 2    720.70 0      HGV   1485.3369 1485.3369 0  0  ... 0  0  0  0 \n",
       "2 2 truck1 3    587.42 0      HGV   1045.7358 1045.7358 0  0  ... 0  0  0  0 \n",
       "3 3 truck1 4    635.69 0      HGV   1442.5705 1442.5705 0  0  ... 0  0  0  0 \n",
       "4 4 truck1 5    613.99 0      HGV   1070.3352 1070.3352 0  0  ... 0  0  0  0 \n",
       "5 5 truck1 6    455.06 0      HGV   1209.7557 1209.7557 0  0  ... 0  0  0  0 \n",
       "6 6 truck1 7    570.16 0      HGV    670.9068  670.9068 0  0  ... 0  0  0  0 \n",
       "  LU PL HR SI fuel   mpg      \n",
       "1 0  0  0  0  720.70  9.369329\n",
       "2 0  0  0  0  587.42  8.093032\n",
       "3 0  0  0  0  635.69 10.316436\n",
       "4 0  0  0  0  613.99  7.924950\n",
       "5 0  0  0  0  455.06 12.085567\n",
       "6 0  0  0  0  570.16  5.349380"
      ]
     },
     "metadata": {},
     "output_type": "display_data"
    }
   ],
   "source": [
    "fuelData <- read.csv('fuel.csv')\n",
    "head(fuelData)"
   ]
  },
  {
   "cell_type": "markdown",
   "id": "3d2397cd-7f5c-4619-a097-82f1b1882ee3",
   "metadata": {},
   "source": [
    "Variable explanation:\n",
    "- `REG` is an anonymised variable related to vehicle registration number.\n",
    "- `Week` is the week number in 2024\n",
    "- `HVO` is Hydrotreated Vegetable Oil (in litres)\n",
    "- `Diesel` is diesel oil (in litres)\n",
    "- `CLASS` is a vehicle class: van, rigid truck or HGV\n",
    "- `miles` is the total miles travelled in the given week\n",
    "- `fuel` is the sum of both types of oil used\n",
    "  \n",
    "The country code variables correspond to miles travelled in each European country.\n",
    "\n",
    "`mpg` is fuel efficiency in miles per gallon (response variable)"
   ]
  },
  {
   "cell_type": "markdown",
   "id": "32de3431-fc79-4e22-9534-590626d5470b",
   "metadata": {},
   "source": [
    "## Exploratory data analysis ##"
   ]
  },
  {
   "cell_type": "markdown",
   "id": "9c6cfc6c-6bb3-4c41-8bf3-df319e9cf44c",
   "metadata": {},
   "source": [
    "Visualising the distribution of `mpg`, `HVO`, `Diesel`, `miles`:"
   ]
  },
  {
   "cell_type": "code",
   "execution_count": 19,
   "id": "6faea35f-917e-42e3-9920-a7ec5eba2e8c",
   "metadata": {},
   "outputs": [
    {
     "data": {
      "image/png": "[encoded data removed]",
      "text/plain": [
       "plot without title"
      ]
     },
     "metadata": {},
     "output_type": "display_data"
    }
   ],
   "source": [
    "par(mfrow = c(2, 2))\n",
    "boxplot(fuelData$mpg)\n",
    "boxplot(fuelData$HVO)\n",
    "boxplot(fuelData$Diesel)\n",
    "boxplot(fuelData$miles)"
   ]
  },
  {
   "cell_type": "markdown",
   "id": "ad5e4004-2f06-4c48-8fb2-99b1bae6ab78",
   "metadata": {},
   "source": [
    "Relationships between:\n",
    "- `mpg` and `HVO`\n",
    "- `mpg` and `Diesel`"
   ]
  },
  {
   "cell_type": "code",
   "execution_count": 20,
   "id": "3a0ad35f-1973-4d51-b885-938fcaca0da9",
   "metadata": {},
   "outputs": [
    {
     "data": {
      "image/png": "[encoded data removed]",
      "text/plain": [
       "plot without title"
      ]
     },
     "metadata": {},
     "output_type": "display_data"
    }
   ],
   "source": [
    "par(mfrow = c(1, 2))\n",
    "plot(mpg ~ HVO, data = fuelData)\n",
    "plot(mpg ~ Diesel, data = fuelData)"
   ]
  },
  {
   "cell_type": "markdown",
   "id": "67add12f-5107-4e4e-a264-213500fd933d",
   "metadata": {},
   "source": [
    "We are adding a new variable `pHVO`, which is a proportion of HVO in total fuel used:"
   ]
  },
  {
   "cell_type": "code",
   "execution_count": 21,
   "id": "0bc37926-3ee4-4c84-a0d5-d2b7f94eb6c3",
   "metadata": {},
   "outputs": [],
   "source": [
    "fuelData$pHVO <- fuelData$HVO / fuelData$fuel"
   ]
  },
  {
   "cell_type": "markdown",
   "id": "9cafaad2-00fe-42eb-a5db-3676601ff05d",
   "metadata": {},
   "source": [
    "And visualising its relationship to `mpg`:"
   ]
  },
  {
   "cell_type": "code",
   "execution_count": 22,
   "id": "ba7cde8e-cf45-4c73-b323-56f1a8a1169a",
   "metadata": {},
   "outputs": [
    {
     "data": {
      "image/png": "[encoded data removed]",
      "text/plain": [
       "plot without title"
      ]
     },
     "metadata": {},
     "output_type": "display_data"
    }
   ],
   "source": [
    "plot(mpg ~ pHVO, data = fuelData)"
   ]
  },
  {
   "cell_type": "markdown",
   "id": "ed490517-65a4-47b5-a3ad-1320ddef32c7",
   "metadata": {},
   "source": [
    "We are adding a new variable `EU`, which is the number of miles travelled in Europe outside of the UK:"
   ]
  },
  {
   "cell_type": "code",
   "execution_count": 30,
   "id": "56c08f1b-ecc5-4e6a-ab6e-4a186bb204b2",
   "metadata": {},
   "outputs": [],
   "source": [
    "fuelData$EU <- fuelData$miles - fuelData$GB"
   ]
  },
  {
   "cell_type": "markdown",
   "id": "7dbeaf7a-8084-4fae-b1e5-4655732834be",
   "metadata": {},
   "source": [
    "And visualising its relationship to mpg:"
   ]
  },
  {
   "cell_type": "code",
   "execution_count": 31,
   "id": "d051e4cd-892f-4ded-931c-20d0bb432bc6",
   "metadata": {},
   "outputs": [
    {
     "data": {
      "image/png": "[encoded data removed]",
      "text/plain": [
       "plot without title"
      ]
     },
     "metadata": {},
     "output_type": "display_data"
    }
   ],
   "source": [
    "plot(mpg ~ EU, data = fuelData)"
   ]
  },
  {
   "cell_type": "markdown",
   "id": "b6b63a21-db08-4858-b1a8-ff7191c1cb73",
   "metadata": {},
   "source": [
    "## Fitting a linear model ##"
   ]
  },
  {
   "cell_type": "code",
   "execution_count": 37,
   "id": "bbdefb63-8dc0-4bfe-85ef-27ca052186f3",
   "metadata": {},
   "outputs": [
    {
     "data": {
      "text/plain": [
       "\n",
       "Call:\n",
       "lm(formula = mpg ~ Week + HVO + Diesel + CLASS + miles + GB + \n",
       "    EU + fuel + pHVO, data = fuelData)\n",
       "\n",
       "Residuals:\n",
       "    Min      1Q  Median      3Q     Max \n",
       "-15.707  -1.439  -0.857   0.323  85.930 \n",
       "\n",
       "Coefficients: (2 not defined because of singularities)\n",
       "              Estimate Std. Error t value Pr(>|t|)    \n",
       "(Intercept)  8.1247905  0.6945695  11.698  < 2e-16 ***\n",
       "Week         0.0059251  0.0063944   0.927    0.354    \n",
       "HVO         -0.0152714  0.0006399 -23.864  < 2e-16 ***\n",
       "Diesel      -0.0210293  0.0007568 -27.786  < 2e-16 ***\n",
       "CLASSHGV     3.8135861  0.6360474   5.996 2.38e-09 ***\n",
       "CLASSHIAB    4.1205790  0.7664971   5.376 8.47e-08 ***\n",
       "CLASSRIGID   3.8333473  0.6873893   5.577 2.77e-08 ***\n",
       "CLASSVAN    13.1719431  0.7825111  16.833  < 2e-16 ***\n",
       "miles        0.0098111  0.0003069  31.966  < 2e-16 ***\n",
       "GB          -0.0013132  0.0002683  -4.895 1.06e-06 ***\n",
       "EU                  NA         NA      NA       NA    \n",
       "fuel                NA         NA      NA       NA    \n",
       "pHVO        -2.9430955  0.5614666  -5.242 1.75e-07 ***\n",
       "---\n",
       "Signif. codes:  0 '***' 0.001 '**' 0.01 '*' 0.05 '.' 0.1 ' ' 1\n",
       "\n",
       "Residual standard error: 4.255 on 2103 degrees of freedom\n",
       "Multiple R-squared:  0.7169,\tAdjusted R-squared:  0.7155 \n",
       "F-statistic: 532.4 on 10 and 2103 DF,  p-value: < 2.2e-16\n"
      ]
     },
     "metadata": {},
     "output_type": "display_data"
    }
   ],
   "source": [
    "# fitting a full linear model w/o interactions\n",
    "fuelFullModel <- lm(mpg ~ Week + HVO + Diesel + CLASS + miles + GB + EU + fuel + pHVO, data = fuelData)\n",
    "summary(fuelFullModel)"
   ]
  },
  {
   "cell_type": "code",
   "execution_count": 33,
   "id": "2c7dd3ec-e0f0-41b5-854e-1054ca28efc9",
   "metadata": {},
   "outputs": [],
   "source": [
    "# fitting a null linear model\n",
    "fuelNullModel <- lm(mpg ~ 1, data = fuelData)"
   ]
  },
  {
   "cell_type": "code",
   "execution_count": 38,
   "id": "f50494f6-b9fc-4731-8828-c18958a9b388",
   "metadata": {},
   "outputs": [
    {
     "name": "stdout",
     "output_type": "stream",
     "text": [
      "Start:  AIC=6133.86\n",
      "mpg ~ Week + HVO + Diesel + CLASS + miles + GB + EU + fuel + \n",
      "    pHVO\n",
      "\n",
      "\n",
      "Step:  AIC=6133.86\n",
      "mpg ~ Week + HVO + Diesel + CLASS + miles + GB + EU + pHVO\n",
      "\n",
      "\n",
      "Step:  AIC=6133.86\n",
      "mpg ~ Week + HVO + Diesel + CLASS + miles + GB + pHVO\n",
      "\n",
      "         Df Sum of Sq   RSS    AIC\n",
      "- Week    1      15.5 38097 6132.7\n",
      "<none>                38081 6133.9\n",
      "- GB      1     433.9 38515 6155.8\n",
      "- pHVO    1     497.5 38579 6159.3\n",
      "- HVO     1   10312.6 48394 6638.5\n",
      "- CLASS   4   11141.5 49223 6668.4\n",
      "- Diesel  1   13980.3 52061 6792.9\n",
      "- miles   1   18503.4 56584 6969.0\n",
      "\n",
      "Step:  AIC=6132.72\n",
      "mpg ~ HVO + Diesel + CLASS + miles + GB + pHVO\n",
      "\n",
      "         Df Sum of Sq   RSS    AIC\n",
      "<none>                38097 6132.7\n",
      "+ Week    1      15.5 38081 6133.9\n",
      "- GB      1     446.9 38543 6155.4\n",
      "- pHVO    1     493.7 38590 6157.9\n",
      "- HVO     1   10373.4 48470 6639.8\n",
      "- CLASS   4   11148.9 49245 6667.4\n",
      "- Diesel  1   13971.1 52068 6791.2\n",
      "- miles   1   18573.2 56670 6970.2\n"
     ]
    }
   ],
   "source": [
    "# stepwise regression from the full model\n",
    "stepFull = step(fuelFullModel, direction = \"both\", \n",
    "     scope = list(lower = fuelNullModel, upper = fuelFullModel))"
   ]
  },
  {
   "cell_type": "code",
   "execution_count": 40,
   "id": "5bf162c7-e024-42fb-86ba-eaf41a1478fd",
   "metadata": {},
   "outputs": [
    {
     "name": "stdout",
     "output_type": "stream",
     "text": [
      "Start:  AIC=8781.29\n",
      "mpg ~ 1\n",
      "\n",
      "         Df Sum of Sq    RSS    AIC\n",
      "+ CLASS   4     60377  74116 7529.6\n",
      "+ fuel    1     31809 102684 8212.8\n",
      "+ miles   1     19699 114794 8448.5\n",
      "+ GB      1     10769 123724 8606.9\n",
      "+ HVO     1     10203 124290 8616.5\n",
      "+ Diesel  1      7866 126627 8655.9\n",
      "+ pHVO    1      1223 133270 8764.0\n",
      "+ Week    1       217 134276 8779.9\n",
      "+ EU      1       141 134351 8781.1\n",
      "<none>                134493 8781.3\n",
      "\n",
      "Step:  AIC=7529.6\n",
      "mpg ~ CLASS\n",
      "\n",
      "         Df Sum of Sq    RSS    AIC\n",
      "+ fuel    1     12962  61154 7125.2\n",
      "+ HVO     1      7163  66953 7316.7\n",
      "+ miles   1      4820  69296 7389.5\n",
      "+ EU      1      2468  71648 7460.0\n",
      "+ pHVO    1      1082  73034 7500.5\n",
      "+ Diesel  1      1021  73095 7502.3\n",
      "+ Week    1       124  73992 7528.1\n",
      "<none>                 74116 7529.6\n",
      "+ GB      1        25  74091 7530.9\n",
      "- CLASS   4     60377 134493 8781.3\n",
      "\n",
      "Step:  AIC=7125.21\n",
      "mpg ~ CLASS + fuel\n",
      "\n",
      "         Df Sum of Sq    RSS    AIC\n",
      "+ miles   1     22180  38973 6174.8\n",
      "+ EU      1      6519  54635 6888.9\n",
      "+ pHVO    1      2169  58985 7050.9\n",
      "+ HVO     1       995  60159 7092.5\n",
      "+ Diesel  1       995  60159 7092.5\n",
      "+ GB      1       578  60576 7107.1\n",
      "+ Week    1        75  61079 7124.6\n",
      "<none>                 61154 7125.2\n",
      "- fuel    1     12962  74116 7529.6\n",
      "- CLASS   4     41530 102684 8212.8\n",
      "\n",
      "Step:  AIC=6174.83\n",
      "mpg ~ CLASS + fuel + miles\n",
      "\n",
      "         Df Sum of Sq   RSS    AIC\n",
      "+ GB      1     339.1 38634 6158.4\n",
      "+ EU      1     339.1 38634 6158.4\n",
      "+ pHVO    1     216.9 38757 6165.0\n",
      "+ HVO     1      40.8 38933 6174.6\n",
      "+ Diesel  1      40.8 38933 6174.6\n",
      "<none>                38973 6174.8\n",
      "+ Week    1      28.0 38946 6175.3\n",
      "- CLASS   4   10570.3 49544 6674.1\n",
      "- miles   1   22180.4 61154 7125.2\n",
      "- fuel    1   30322.8 69296 7389.5\n",
      "\n",
      "Step:  AIC=6158.36\n",
      "mpg ~ CLASS + fuel + miles + GB\n",
      "\n",
      "         Df Sum of Sq   RSS    AIC\n",
      "+ HVO     1      44.2 38590 6157.9\n",
      "+ Diesel  1      44.2 38590 6157.9\n",
      "+ pHVO    1      37.8 38597 6158.3\n",
      "<none>                38634 6158.4\n",
      "+ Week    1      10.3 38624 6159.8\n",
      "- GB      1     339.1 38973 6174.8\n",
      "- CLASS   4   10861.2 49496 6674.1\n",
      "- miles   1   21941.2 60576 7107.1\n",
      "- fuel    1   30329.6 68964 7381.3\n",
      "\n",
      "Step:  AIC=6157.94\n",
      "mpg ~ CLASS + fuel + miles + GB + HVO\n",
      "\n",
      "        Df Sum of Sq   RSS    AIC\n",
      "+ pHVO   1     493.7 38097 6132.7\n",
      "<none>               38590 6157.9\n",
      "- HVO    1      44.2 38634 6158.4\n",
      "+ Week   1      11.7 38579 6159.3\n",
      "- GB     1     342.5 38933 6174.6\n",
      "- CLASS  4   10905.4 49496 6676.1\n",
      "- miles  1   19139.7 57730 7007.4\n",
      "- fuel   1   20225.9 58816 7046.8\n",
      "\n",
      "Step:  AIC=6132.72\n",
      "mpg ~ CLASS + fuel + miles + GB + HVO + pHVO\n",
      "\n",
      "        Df Sum of Sq   RSS    AIC\n",
      "<none>               38097 6132.7\n",
      "+ Week   1      15.5 38081 6133.9\n",
      "- GB     1     446.9 38543 6155.4\n",
      "- pHVO   1     493.7 38590 6157.9\n",
      "- HVO    1     500.0 38597 6158.3\n",
      "- CLASS  4   11148.9 49245 6667.4\n",
      "- fuel   1   13971.1 52068 6791.2\n",
      "- miles  1   18573.2 56670 6970.2\n"
     ]
    }
   ],
   "source": [
    "# stepwise regression from the null model\n",
    "stepNull = step(fuelNullModel, direction = \"both\", \n",
    "     scope = list(lower = fuelNullModel, upper = fuelFullModel))"
   ]
  },
  {
   "cell_type": "markdown",
   "id": "723e4c6e-30e3-4205-abe2-0fd54c8a6f4b",
   "metadata": {},
   "source": [
    "No matter the starting model, both stepwise regressions chose the following model:\n",
    "`mpg ~ CLASS + fuel + miles + GB + HVO + pHVO`"
   ]
  },
  {
   "cell_type": "code",
   "execution_count": 41,
   "id": "254634e2-4c50-460e-bea6-89b0309c4522",
   "metadata": {},
   "outputs": [
    {
     "data": {
      "text/plain": [
       "\n",
       "Call:\n",
       "lm(formula = mpg ~ HVO + Diesel + CLASS + miles + GB + pHVO, \n",
       "    data = fuelData)\n",
       "\n",
       "Residuals:\n",
       "    Min      1Q  Median      3Q     Max \n",
       "-15.658  -1.439  -0.873   0.335  85.817 \n",
       "\n",
       "Coefficients:\n",
       "              Estimate Std. Error t value Pr(>|t|)    \n",
       "(Intercept)  8.2573882  0.6796456  12.150  < 2e-16 ***\n",
       "HVO         -0.0152994  0.0006392 -23.935  < 2e-16 ***\n",
       "Diesel      -0.0210208  0.0007568 -27.778  < 2e-16 ***\n",
       "CLASSHGV     3.8353435  0.6355925   6.034 1.88e-09 ***\n",
       "CLASSHIAB    4.1501890  0.7658049   5.419 6.67e-08 ***\n",
       "CLASSRIGID   3.8607800  0.6867284   5.622 2.14e-08 ***\n",
       "CLASSVAN    13.1972016  0.7820099  16.876  < 2e-16 ***\n",
       "miles        0.0098221  0.0003067  32.028  < 2e-16 ***\n",
       "GB          -0.0013297  0.0002677  -4.968 7.31e-07 ***\n",
       "pHVO        -2.9308482  0.5612921  -5.222 1.95e-07 ***\n",
       "---\n",
       "Signif. codes:  0 '***' 0.001 '**' 0.01 '*' 0.05 '.' 0.1 ' ' 1\n",
       "\n",
       "Residual standard error: 4.255 on 2104 degrees of freedom\n",
       "Multiple R-squared:  0.7167,\tAdjusted R-squared:  0.7155 \n",
       "F-statistic: 591.5 on 9 and 2104 DF,  p-value: < 2.2e-16\n"
      ]
     },
     "metadata": {},
     "output_type": "display_data"
    }
   ],
   "source": [
    "summary(stepFull)"
   ]
  },
  {
   "cell_type": "markdown",
   "id": "ef1c90c0-a34d-4f53-9859-d1694776e798",
   "metadata": {},
   "source": [
    "The most important factor in fuel efficiency is the vehicle type, with vans being the most efficient due to their smaller size."
   ]
  },
  {
   "cell_type": "markdown",
   "id": "eaf0efec-1092-403f-bb70-fa596da44ebf",
   "metadata": {},
   "source": [
    "Interestingly, an increase in HVO proportion in the total fuel is associated with a decrease in `mpg`. Therefore, the claim of HVO increasing fuel efficiency cannot be proven by this analysis and the re"
   ]
  }
 ],
 "metadata": {
  "kernelspec": {
   "display_name": "R",
   "language": "R",
   "name": "ir"
  },
  "language_info": {
   "codemirror_mode": "r",
   "file_extension": ".r",
   "mimetype": "text/x-r-source",
   "name": "R",
   "pygments_lexer": "r",
   "version": "3.6.1"
  }
 },
 "nbformat": 4,
 "nbformat_minor": 5
}
